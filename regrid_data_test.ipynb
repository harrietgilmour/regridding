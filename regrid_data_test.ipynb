{
 "cells": [
  {
   "cell_type": "code",
   "execution_count": 38,
   "metadata": {},
   "outputs": [
    {
     "name": "stdout",
     "output_type": "stream",
     "text": [
      "Looking in indexes: https://metoffice.jfrog.io/metoffice/api/pypi/pypi/simple\n",
      "Requirement already satisfied: cdo in /net/home/h03/hgilmour/.conda/envs/myclone/lib/python3.9/site-packages (1.6.0)\n",
      "Requirement already satisfied: six in /net/home/h03/hgilmour/.conda/envs/myclone/lib/python3.9/site-packages (from cdo) (1.16.0)\n",
      "\u001b[33mWARNING: You are using pip version 22.0.4; however, version 23.3 is available.\n",
      "You should consider upgrading via the '/home/h03/hgilmour/.conda/envs/myclone/bin/python -m pip install --upgrade pip' command.\u001b[0m\u001b[33m\n",
      "\u001b[0mNote: you may need to restart the kernel to use updated packages.\n"
     ]
    }
   ],
   "source": [
    "pip install cdo"
   ]
  },
  {
   "cell_type": "code",
   "execution_count": 1,
   "metadata": {},
   "outputs": [],
   "source": [
    "import iris\n",
    "import numpy as np\n",
    "import pandas as pd\n",
    "import cdo\n",
    "from cdo import *\n",
    "import xarray as xr"
   ]
  },
  {
   "cell_type": "code",
   "execution_count": 2,
   "metadata": {},
   "outputs": [],
   "source": [
    "#cdo = Cdo()"
   ]
  },
  {
   "cell_type": "markdown",
   "metadata": {},
   "source": [
    "Things to re-grid:\n",
    "1) CPM segmentation.nc files 1998-2007 (to 10km IMERG using nearest neighbour)\n",
    "2) Satellite segmentation.nc files 2001-2007 (to 10km IMERG using nearest neighbour)\n",
    "3) CPM Tb 1998-2007 (to 10km IMERG using remapcon)\n",
    "4) Satellite Tb 2001-2007 (to 10km IMERG using remapcon)\n",
    "5) CPM precip 1998-2007 (to 10m IMERG using remapcon)\n",
    "6) CPM w 1998-2007 (to 10m IMERG using remapcon)"
   ]
  },
  {
   "cell_type": "markdown",
   "metadata": {},
   "source": [
    "**1) Re-grid CPM segmentation.nc files 1998-2007 (to 10km IMERG using nearest neighbour**)"
   ]
  },
  {
   "cell_type": "code",
   "execution_count": 38,
   "metadata": {},
   "outputs": [],
   "source": [
    "## Load in CPM segmentation file for each year ###\n",
    "mask_file_1999 = '/data/users/hgilmour/initial_tracks/tobac_initial_tracks/segmentation/segmentation_yearly_1999.nc'"
   ]
  },
  {
   "cell_type": "code",
   "execution_count": 39,
   "metadata": {},
   "outputs": [
    {
     "name": "stderr",
     "output_type": "stream",
     "text": [
      "/var/tmp/ipykernel_20211/408015420.py:3: FutureWarning: Ignoring a datum in netCDF load for consistency with existing behaviour. In a future version of Iris, this datum will be applied. To apply the datum when loading, use the iris.FUTURE.datum_support flag.\n",
      "  mask_1999 = iris.load_cube(mask_file_1999)\n"
     ]
    },
    {
     "data": {
      "text/html": [
       "\n",
       "<style>\n",
       "  a.iris {\n",
       "      text-decoration: none !important;\n",
       "  }\n",
       "  table.iris {\n",
       "      white-space: pre;\n",
       "      border: 1px solid;\n",
       "      border-color: #9c9c9c;\n",
       "      font-family: monaco, monospace;\n",
       "  }\n",
       "  th.iris {\n",
       "      background: #303f3f;\n",
       "      color: #e0e0e0;\n",
       "      border-left: 1px solid;\n",
       "      border-color: #9c9c9c;\n",
       "      font-size: 1.05em;\n",
       "      min-width: 50px;\n",
       "      max-width: 125px;\n",
       "  }\n",
       "  tr.iris :first-child {\n",
       "      border-right: 1px solid #9c9c9c !important;\n",
       "  }\n",
       "  td.iris-title {\n",
       "      background: #d5dcdf;\n",
       "      border-top: 1px solid #9c9c9c;\n",
       "      font-weight: bold;\n",
       "  }\n",
       "  .iris-word-cell {\n",
       "      text-align: left !important;\n",
       "      white-space: pre;\n",
       "  }\n",
       "  .iris-subheading-cell {\n",
       "      padding-left: 2em !important;\n",
       "  }\n",
       "  .iris-inclusion-cell {\n",
       "      padding-right: 1em !important;\n",
       "  }\n",
       "  .iris-panel-body {\n",
       "      padding-top: 0px;\n",
       "  }\n",
       "  .iris-panel-title {\n",
       "      padding-left: 3em;\n",
       "  }\n",
       "  .iris-panel-title {\n",
       "      margin-top: 7px;\n",
       "  }\n",
       "</style>\n",
       "<table class=\"iris\" id=\"47727397494352\">\n",
       "    <tr class=\"iris\">\n",
       "<th class=\"iris iris-word-cell\">Segmentation Mask (1)</th>\n",
       "<th class=\"iris iris-word-cell\">time</th>\n",
       "<th class=\"iris iris-word-cell\">--</th>\n",
       "<th class=\"iris iris-word-cell\">--</th>\n",
       "</tr>\n",
       "    <tr class=\"iris\">\n",
       "<td class=\"iris-word-cell iris-subheading-cell\">Shape</td>\n",
       "<td class=\"iris iris-inclusion-cell\">8760</td>\n",
       "<td class=\"iris iris-inclusion-cell\">1360</td>\n",
       "<td class=\"iris iris-inclusion-cell\">1360</td>\n",
       "</tr>\n",
       "    <tr class=\"iris\">\n",
       "    <td class=\"iris-title iris-word-cell\">Dimension coordinates</td>\n",
       "    <td class=\"iris-title\"></td>\n",
       "    <td class=\"iris-title\"></td>\n",
       "    <td class=\"iris-title\"></td>\n",
       "</tr>\n",
       "<tr class=\"iris\">\n",
       "    <td class=\"iris-word-cell iris-subheading-cell\">\ttime</td>\n",
       "    <td class=\"iris-inclusion-cell\">x</td>\n",
       "    <td class=\"iris-inclusion-cell\">-</td>\n",
       "    <td class=\"iris-inclusion-cell\">-</td>\n",
       "</tr>\n",
       "<tr class=\"iris\">\n",
       "    <td class=\"iris-title iris-word-cell\">Attributes</td>\n",
       "    <td class=\"iris-title\"></td>\n",
       "    <td class=\"iris-title\"></td>\n",
       "    <td class=\"iris-title\"></td>\n",
       "</tr>\n",
       "<tr class=\"iris\">\n",
       "    <td class=\"iris-word-cell iris-subheading-cell\">\tCDI</td>\n",
       "    <td class=\"iris-word-cell\" colspan=\"3\">&#x27;Climate Data Interface version 2.1.1 (https://mpimet.mpg.de/cdi)&#x27;</td>\n",
       "</tr>\n",
       "<tr class=\"iris\">\n",
       "    <td class=\"iris-word-cell iris-subheading-cell\">\tCDO</td>\n",
       "    <td class=\"iris-word-cell\" colspan=\"3\">&#x27;Climate Data Operators version 2.1.1 (https://mpimet.mpg.de/cdo)&#x27;</td>\n",
       "</tr>\n",
       "<tr class=\"iris\">\n",
       "    <td class=\"iris-word-cell iris-subheading-cell\">\tConventions</td>\n",
       "    <td class=\"iris-word-cell\" colspan=\"3\">&#x27;CF-1.7&#x27;</td>\n",
       "</tr>\n",
       "<tr class=\"iris\">\n",
       "    <td class=\"iris-word-cell iris-subheading-cell\">\thistory</td>\n",
       "    <td class=\"iris-word-cell\" colspan=\"3\">&#x27;Fri Sep 15 14:42:31 2023: cdo mergetime tb_merge_01_1999.nc tb_merge_02_1999.nc ...&#x27;</td>\n",
       "</tr>\n",
       "<tr class=\"iris\">\n",
       "    <td class=\"iris-word-cell iris-subheading-cell\">\tsource</td>\n",
       "    <td class=\"iris-word-cell\" colspan=\"3\">&#x27;Data from Met Office Unified Model&#x27;</td>\n",
       "</tr>\n",
       "<tr class=\"iris\">\n",
       "    <td class=\"iris-word-cell iris-subheading-cell\">\tum_version</td>\n",
       "    <td class=\"iris-word-cell\" colspan=\"3\">&#x27;10.6&#x27;</td>\n",
       "</tr>\n",
       "</table>\n",
       "        "
      ],
      "text/plain": [
       "<iris 'Cube' of segmentation_mask / (1) (time: 8760; -- : 1360; -- : 1360)>"
      ]
     },
     "execution_count": 39,
     "metadata": {},
     "output_type": "execute_result"
    }
   ],
   "source": [
    "### Extract the first timestep of the segmentation.nc file for testing ##\n",
    "\n",
    "mask_1999 = iris.load_cube(mask_file_1999)\n",
    "mask_1999\n",
    "#subset = mask_1999[0:1,:,:]"
   ]
  },
  {
   "cell_type": "code",
   "execution_count": 40,
   "metadata": {},
   "outputs": [
    {
     "name": "stderr",
     "output_type": "stream",
     "text": [
      "/var/tmp/ipykernel_20211/1341759942.py:4: FutureWarning: Ignoring a datum in netCDF load for consistency with existing behaviour. In a future version of Iris, this datum will be applied. To apply the datum when loading, use the iris.FUTURE.datum_support flag.\n",
      "  tb_1999 = iris.load(tb_file)\n"
     ]
    }
   ],
   "source": [
    "## Also load in the Tb CPM file to get the lat lon info from ##\n",
    "tb_file = '/data/users/hgilmour/tb/tb_1999.nc'\n",
    "\n",
    "tb_1999 = iris.load(tb_file)\n",
    "\n",
    "tb_1999 = tb_1999[1]"
   ]
  },
  {
   "cell_type": "code",
   "execution_count": 41,
   "metadata": {},
   "outputs": [],
   "source": [
    "#tb_1999_subset = tb_1999[0:1,:,:]"
   ]
  },
  {
   "cell_type": "code",
   "execution_count": null,
   "metadata": {},
   "outputs": [],
   "source": [
    "## Extract the data from the segmentation mask ##\n",
    "\n",
    "mask_1999_data = mask_1999.data"
   ]
  },
  {
   "cell_type": "code",
   "execution_count": null,
   "metadata": {},
   "outputs": [],
   "source": [
    "## creating a new black cube to put data into ##\n",
    "TM = mask_1999.coord('time')\n",
    "hrtime = TM.points\n",
    "\n",
    "nt,nx,ny = mask_1999_data.shape\n",
    "subset_new = np.zeros((nt,nx,ny))\n",
    "\n",
    "TimeCoords, LatCoords, LonCoords = mask_1999.coord('time'), tb_1999.coord('projection_y_coordinate'), tb_1999.coord('projection_x_coordinate') \n",
    "vrbcoords=[(TimeCoords, 0), (LatCoords, 1), (LonCoords, 2)]\n",
    "\n",
    "## Instantiate new cube \n",
    "newcube = iris.cube.Cube(subset_new,standard_name=mask_1999.standard_name, long_name=mask_1999.long_name, var_name=mask_1999.var_name, units=mask_1999.units, attributes=mask_1999.attributes, dim_coords_and_dims=vrbcoords)\n"
   ]
  },
  {
   "cell_type": "code",
   "execution_count": null,
   "metadata": {},
   "outputs": [],
   "source": [
    "## Put data from mask file into the new empty cube ##\n",
    "newcube.data = mask_1999.data"
   ]
  },
  {
   "cell_type": "code",
   "execution_count": null,
   "metadata": {},
   "outputs": [],
   "source": [
    "## testing to see if new masked data has been added to the cube ##\n",
    "\n",
    "newcube[0,1:100,1:100].data"
   ]
  },
  {
   "cell_type": "code",
   "execution_count": null,
   "metadata": {},
   "outputs": [],
   "source": [
    "# savefile = '/data/users/hgilmour/initial_tracks/tobac_initial_tracks/segmentation/coords_test_segmentation_yearly_1999.nc'\n",
    "\n",
    "# iris.save(newcube, savefile)"
   ]
  },
  {
   "cell_type": "code",
   "execution_count": null,
   "metadata": {},
   "outputs": [],
   "source": [
    "newcube"
   ]
  },
  {
   "cell_type": "code",
   "execution_count": null,
   "metadata": {},
   "outputs": [],
   "source": [
    "def guesslatlonbounds(cube):\n",
    "    cube.coord('projection_x_coordinate').circular = True\n",
    "\n",
    "    cs = iris.coord_systems.GeogCS(6371229)\n",
    "    for coord in ['projection_y_coordinate','projection_x_coordinate']:\n",
    "        if cube.coord(coord).bounds is None:\n",
    "            cube.coord(coord).guess_bounds()\n",
    "        if cube.coord(coord).coord_system is None:\n",
    "            cube.coord(coord).coord_system = cs\n",
    "            \n",
    "    return cube"
   ]
  },
  {
   "cell_type": "code",
   "execution_count": null,
   "metadata": {},
   "outputs": [],
   "source": [
    "mask_1999_coords = guesslatlonbounds(newcube)"
   ]
  },
  {
   "cell_type": "code",
   "execution_count": null,
   "metadata": {},
   "outputs": [],
   "source": [
    "#iris.save(subset_mask_1999_coords, '/data/users/hgilmour/initial_tracks/tobac_initial_tracks/segmentation/coords_bounds_test_segmentation_yearly_1999.nc')"
   ]
  },
  {
   "cell_type": "markdown",
   "metadata": {},
   "source": [
    "**Process IMERG ready for re-gridding**"
   ]
  },
  {
   "cell_type": "code",
   "execution_count": null,
   "metadata": {},
   "outputs": [],
   "source": [
    "### Load in IMERG file with 10km grid to compare to ###\n",
    "imerg_file = '/scratch/hgilmour/obs/precip/precip_2001.nc'\n",
    "\n",
    "imerg = iris.load(imerg_file)\n",
    "\n",
    "imerg = imerg[0]"
   ]
  },
  {
   "cell_type": "code",
   "execution_count": null,
   "metadata": {},
   "outputs": [],
   "source": [
    "## Take a small subset of imerg for testing ##\n",
    "\n",
    "imerg_subset = imerg[0:1,:,:]"
   ]
  },
  {
   "cell_type": "code",
   "execution_count": null,
   "metadata": {},
   "outputs": [],
   "source": [
    "imerg_subset"
   ]
  },
  {
   "cell_type": "code",
   "execution_count": null,
   "metadata": {},
   "outputs": [],
   "source": [
    "def guesslatlonbounds(cube):\n",
    "    cube.coord('longitude').circular = True\n",
    "\n",
    "    cs = iris.coord_systems.GeogCS(6371229)\n",
    "    for coord in ['latitude','longitude']:\n",
    "        if cube.coord(coord).bounds is None:\n",
    "            cube.coord(coord).guess_bounds()\n",
    "        if cube.coord(coord).coord_system is None:\n",
    "            cube.coord(coord).coord_system = cs\n",
    "            \n",
    "    return cube"
   ]
  },
  {
   "cell_type": "code",
   "execution_count": null,
   "metadata": {},
   "outputs": [],
   "source": [
    "## check that imerg subset has bounds and a coordinate system ##\n",
    "\n",
    "subset_imerg_coords = guesslatlonbounds(imerg_subset)"
   ]
  },
  {
   "cell_type": "markdown",
   "metadata": {},
   "source": [
    "**Regrid the added coords and bounds cube to the IMERG 10km grid**"
   ]
  },
  {
   "cell_type": "code",
   "execution_count": null,
   "metadata": {},
   "outputs": [],
   "source": [
    "scheme = iris.analysis.Nearest()\n",
    "\n",
    "regridded_mask_1999 = mask_1999_coords.regrid(subset_imerg_coords, scheme)"
   ]
  },
  {
   "cell_type": "code",
   "execution_count": null,
   "metadata": {},
   "outputs": [],
   "source": [
    "regridded_mask_1999"
   ]
  },
  {
   "cell_type": "code",
   "execution_count": null,
   "metadata": {},
   "outputs": [],
   "source": [
    "## Save the regridded mask file as a test ##\n",
    "savefile = '/data/users/hgilmour/initial_tracks/tobac_initial_tracks/segmentation/regridded/regridded_segmentation_yearly_1999.nc'\n",
    "\n",
    "iris.save(regridded_mask_1999, savefile)"
   ]
  },
  {
   "cell_type": "markdown",
   "metadata": {},
   "source": [
    "**Check regridded mask file by plotting it**"
   ]
  },
  {
   "cell_type": "code",
   "execution_count": null,
   "metadata": {},
   "outputs": [],
   "source": [
    "import xarray as xr"
   ]
  },
  {
   "cell_type": "code",
   "execution_count": null,
   "metadata": {},
   "outputs": [],
   "source": [
    "regrid_mask = xr.open_dataset('/data/users/hgilmour/initial_tracks/tobac_initial_tracks/segmentation/regridded/regridded_segmentation_yearly_1999.nc')"
   ]
  },
  {
   "cell_type": "code",
   "execution_count": null,
   "metadata": {},
   "outputs": [],
   "source": [
    "regrid_mask = regrid_mask.segmentation_mask"
   ]
  },
  {
   "cell_type": "code",
   "execution_count": null,
   "metadata": {},
   "outputs": [],
   "source": [
    "regrid_mask[8759,:,:].plot()"
   ]
  },
  {
   "cell_type": "code",
   "execution_count": null,
   "metadata": {},
   "outputs": [],
   "source": []
  }
 ],
 "metadata": {
  "kernelspec": {
   "display_name": ".conda-myclone Python (Conda)",
   "language": "python",
   "name": "conda-env-.conda-myclone-py"
  },
  "language_info": {
   "codemirror_mode": {
    "name": "ipython",
    "version": 3
   },
   "file_extension": ".py",
   "mimetype": "text/x-python",
   "name": "python",
   "nbconvert_exporter": "python",
   "pygments_lexer": "ipython3",
   "version": "3.9.13"
  }
 },
 "nbformat": 4,
 "nbformat_minor": 4
}
