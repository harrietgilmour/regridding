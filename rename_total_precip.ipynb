{
 "cells": [
  {
   "cell_type": "markdown",
   "metadata": {},
   "source": [
    "RUN THIS NOTEBOOK AS AN INTERACTIVE JUPYTER SPICE SESSION WITH 100 MEMORY\n",
    "\n",
    "This notebook is used to rename the variable name in the total_precip files for the PD and future CPM simulations (i.e. once rain + snow are combined in bash scripts in /data/users/hgilmour/cold_core_filtering). This combining process saves the data varaible fot total precip as \"__data_array_variable__\" . When regridding this to the 10km IMERG grid, iris doesn't recognise this as a name and so it needs to be renamed. This notebook renames \"__data_array_variable__\" as \"unknown\" so that iris recognises it for regridding. It is then saved as 'renamed.....'. \n",
    "\n",
    "THIS MUST BE DONE BEFORE REGRIDDING TOTAL PRECIP IN CPM PD AND FUTURE SIMULATIONS"
   ]
  },
  {
   "cell_type": "code",
   "execution_count": null,
   "metadata": {},
   "outputs": [],
   "source": [
    "import xarray as xr\n",
    "import iris\n",
    "import numpy as np"
   ]
  },
  {
   "cell_type": "code",
   "execution_count": null,
   "metadata": {},
   "outputs": [],
   "source": [
    "year = 1998\n",
    "simulation = 'cpm_PD'"
   ]
  },
  {
   "cell_type": "code",
   "execution_count": null,
   "metadata": {},
   "outputs": [],
   "source": [
    "total_precip_file = '/scratch/hgilmour/cpm_PD/total_precip/annual_files/total_precip_{}.nc'.format(year)\n",
    "\n",
    "total_precip = xr.open_dataset(total_precip_file)\n",
    "\n",
    "total_precip = total_precip.__xarray_dataarray_variable__"
   ]
  },
  {
   "cell_type": "code",
   "execution_count": null,
   "metadata": {},
   "outputs": [],
   "source": [
    "total_precip = total_precip.rename('unknown')"
   ]
  },
  {
   "cell_type": "code",
   "execution_count": null,
   "metadata": {},
   "outputs": [],
   "source": [
    "total_precip.to_netcdf('/scratch/hgilmour/{}/total_precip/annual_files/renamed_total_precip_{}.nc'.format(simulation, year), mode='w')"
   ]
  }
 ],
 "metadata": {
  "language_info": {
   "name": "python"
  }
 },
 "nbformat": 4,
 "nbformat_minor": 2
}
